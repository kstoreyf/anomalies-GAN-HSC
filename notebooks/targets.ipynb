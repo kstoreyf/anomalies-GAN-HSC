{
 "cells": [
  {
   "cell_type": "code",
   "execution_count": 4,
   "metadata": {},
   "outputs": [],
   "source": [
    "%matplotlib inline\n",
    "%load_ext autoreload\n",
    "%autoreload 2\n",
    "\n",
    "import os\n",
    "import sys\n",
    "import numpy as np\n",
    "\n",
    "import astropy.units as u\n",
    "from astropy import wcs\n",
    "from astropy.io import fits\n",
    "from astropy.coordinates import SkyCoord\n",
    "from astropy.visualization import make_lupton_rgb\n",
    "from astropy.utils.data import download_file, clear_download_cache\n",
    "\n",
    "import matplotlib.pyplot as plt"
   ]
  },
  {
   "cell_type": "code",
   "execution_count": 5,
   "metadata": {},
   "outputs": [],
   "source": [
    "import pandas as pd\n",
    "import h5py"
   ]
  },
  {
   "cell_type": "code",
   "execution_count": 6,
   "metadata": {},
   "outputs": [],
   "source": [
    "cat_fn = '/archive/k/ksf293/kavli/anomaly/data/hsc_catalogs/pdr2_wide_icmod_20.0-20.5_clean_more.csv'"
   ]
  },
  {
   "cell_type": "code",
   "execution_count": 7,
   "metadata": {},
   "outputs": [],
   "source": [
    "cat = pd.read_csv(cat_fn)"
   ]
  },
  {
   "cell_type": "code",
   "execution_count": 8,
   "metadata": {},
   "outputs": [
    {
     "data": {
      "text/html": [
       "<div>\n",
       "<style scoped>\n",
       "    .dataframe tbody tr th:only-of-type {\n",
       "        vertical-align: middle;\n",
       "    }\n",
       "\n",
       "    .dataframe tbody tr th {\n",
       "        vertical-align: top;\n",
       "    }\n",
       "\n",
       "    .dataframe thead th {\n",
       "        text-align: right;\n",
       "    }\n",
       "</style>\n",
       "<table border=\"1\" class=\"dataframe\">\n",
       "  <thead>\n",
       "    <tr style=\"text-align: right;\">\n",
       "      <th></th>\n",
       "      <th>Unnamed: 0</th>\n",
       "      <th>Unnamed: 0.1</th>\n",
       "      <th>Unnamed: 0.1.1</th>\n",
       "      <th>object_id</th>\n",
       "      <th>ra_x</th>\n",
       "      <th>dec_x</th>\n",
       "      <th>tract_x</th>\n",
       "      <th>patch_x</th>\n",
       "      <th>parent_id_x</th>\n",
       "      <th>a_g</th>\n",
       "      <th>...</th>\n",
       "      <th>r_cmodel_exp_ellipse_12</th>\n",
       "      <th>r_cmodel_dev_ellipse_11</th>\n",
       "      <th>r_cmodel_dev_ellipse_22</th>\n",
       "      <th>r_cmodel_dev_ellipse_12</th>\n",
       "      <th>r_cmodel_ellipse_11</th>\n",
       "      <th>r_cmodel_ellipse_22</th>\n",
       "      <th>r_cmodel_ellipse_12</th>\n",
       "      <th>i_cmodel_ellipse_radius</th>\n",
       "      <th>i_cmodel_ellipse_ellipticity</th>\n",
       "      <th>i_cmodel_ellipse_theta</th>\n",
       "    </tr>\n",
       "  </thead>\n",
       "  <tbody>\n",
       "    <tr>\n",
       "      <td>0</td>\n",
       "      <td>0</td>\n",
       "      <td>0</td>\n",
       "      <td>0</td>\n",
       "      <td>43356767140190800</td>\n",
       "      <td>216.802789</td>\n",
       "      <td>1.510658</td>\n",
       "      <td>9858</td>\n",
       "      <td>600</td>\n",
       "      <td>0</td>\n",
       "      <td>0.100219</td>\n",
       "      <td>...</td>\n",
       "      <td>1.094012e-05</td>\n",
       "      <td>0.000053</td>\n",
       "      <td>0.000030</td>\n",
       "      <td>0.000015</td>\n",
       "      <td>0.000033</td>\n",
       "      <td>0.000037</td>\n",
       "      <td>1.168442e-05</td>\n",
       "      <td>0.009128</td>\n",
       "      <td>0.845221</td>\n",
       "      <td>6.961689</td>\n",
       "    </tr>\n",
       "    <tr>\n",
       "      <td>1</td>\n",
       "      <td>1</td>\n",
       "      <td>1</td>\n",
       "      <td>1</td>\n",
       "      <td>43356767140215426</td>\n",
       "      <td>216.784996</td>\n",
       "      <td>1.495341</td>\n",
       "      <td>9858</td>\n",
       "      <td>600</td>\n",
       "      <td>43356767140189984</td>\n",
       "      <td>0.099454</td>\n",
       "      <td>...</td>\n",
       "      <td>4.092161e-01</td>\n",
       "      <td>4.074245</td>\n",
       "      <td>2.506356</td>\n",
       "      <td>2.786977</td>\n",
       "      <td>2.916964</td>\n",
       "      <td>1.798599</td>\n",
       "      <td>1.991171e+00</td>\n",
       "      <td>1.822465</td>\n",
       "      <td>0.865521</td>\n",
       "      <td>-36.213899</td>\n",
       "    </tr>\n",
       "    <tr>\n",
       "      <td>2</td>\n",
       "      <td>2</td>\n",
       "      <td>2</td>\n",
       "      <td>2</td>\n",
       "      <td>43356767140215465</td>\n",
       "      <td>216.762722</td>\n",
       "      <td>1.495824</td>\n",
       "      <td>9858</td>\n",
       "      <td>600</td>\n",
       "      <td>43356767140190031</td>\n",
       "      <td>0.098125</td>\n",
       "      <td>...</td>\n",
       "      <td>8.705182e-02</td>\n",
       "      <td>0.513753</td>\n",
       "      <td>0.762794</td>\n",
       "      <td>0.378081</td>\n",
       "      <td>0.495782</td>\n",
       "      <td>0.735635</td>\n",
       "      <td>3.642257e-01</td>\n",
       "      <td>1.032774</td>\n",
       "      <td>0.638879</td>\n",
       "      <td>-53.610602</td>\n",
       "    </tr>\n",
       "    <tr>\n",
       "      <td>3</td>\n",
       "      <td>3</td>\n",
       "      <td>3</td>\n",
       "      <td>3</td>\n",
       "      <td>43356767140215565</td>\n",
       "      <td>216.882569</td>\n",
       "      <td>1.497911</td>\n",
       "      <td>9858</td>\n",
       "      <td>600</td>\n",
       "      <td>43356767140190135</td>\n",
       "      <td>0.098223</td>\n",
       "      <td>...</td>\n",
       "      <td>2.541877e-01</td>\n",
       "      <td>16.960844</td>\n",
       "      <td>15.764521</td>\n",
       "      <td>4.063465</td>\n",
       "      <td>1.023160</td>\n",
       "      <td>1.008886</td>\n",
       "      <td>2.541877e-01</td>\n",
       "      <td>1.893183</td>\n",
       "      <td>0.197258</td>\n",
       "      <td>-46.834818</td>\n",
       "    </tr>\n",
       "    <tr>\n",
       "      <td>4</td>\n",
       "      <td>4</td>\n",
       "      <td>4</td>\n",
       "      <td>4</td>\n",
       "      <td>43356767140215633</td>\n",
       "      <td>216.909050</td>\n",
       "      <td>1.496337</td>\n",
       "      <td>9858</td>\n",
       "      <td>600</td>\n",
       "      <td>43356767140190184</td>\n",
       "      <td>0.096049</td>\n",
       "      <td>...</td>\n",
       "      <td>-5.232369e-01</td>\n",
       "      <td>8.405349</td>\n",
       "      <td>7.994683</td>\n",
       "      <td>-5.879317</td>\n",
       "      <td>3.812341</td>\n",
       "      <td>3.629884</td>\n",
       "      <td>-2.644742e+00</td>\n",
       "      <td>2.502954</td>\n",
       "      <td>0.703243</td>\n",
       "      <td>44.031684</td>\n",
       "    </tr>\n",
       "    <tr>\n",
       "      <td>...</td>\n",
       "      <td>...</td>\n",
       "      <td>...</td>\n",
       "      <td>...</td>\n",
       "      <td>...</td>\n",
       "      <td>...</td>\n",
       "      <td>...</td>\n",
       "      <td>...</td>\n",
       "      <td>...</td>\n",
       "      <td>...</td>\n",
       "      <td>...</td>\n",
       "      <td>...</td>\n",
       "      <td>...</td>\n",
       "      <td>...</td>\n",
       "      <td>...</td>\n",
       "      <td>...</td>\n",
       "      <td>...</td>\n",
       "      <td>...</td>\n",
       "      <td>...</td>\n",
       "      <td>...</td>\n",
       "      <td>...</td>\n",
       "      <td>...</td>\n",
       "    </tr>\n",
       "    <tr>\n",
       "      <td>942776</td>\n",
       "      <td>942776</td>\n",
       "      <td>942776</td>\n",
       "      <td>972004</td>\n",
       "      <td>43356629701261250</td>\n",
       "      <td>216.912147</td>\n",
       "      <td>1.502066</td>\n",
       "      <td>9858</td>\n",
       "      <td>500</td>\n",
       "      <td>43356629701236526</td>\n",
       "      <td>0.096200</td>\n",
       "      <td>...</td>\n",
       "      <td>2.575353e-05</td>\n",
       "      <td>0.000016</td>\n",
       "      <td>0.000044</td>\n",
       "      <td>-0.000006</td>\n",
       "      <td>0.000058</td>\n",
       "      <td>0.000083</td>\n",
       "      <td>-6.581262e-07</td>\n",
       "      <td>0.018185</td>\n",
       "      <td>0.025050</td>\n",
       "      <td>-15.937125</td>\n",
       "    </tr>\n",
       "    <tr>\n",
       "      <td>942777</td>\n",
       "      <td>942777</td>\n",
       "      <td>942777</td>\n",
       "      <td>972005</td>\n",
       "      <td>43356629701261405</td>\n",
       "      <td>217.048003</td>\n",
       "      <td>1.503974</td>\n",
       "      <td>9858</td>\n",
       "      <td>500</td>\n",
       "      <td>43356629701236636</td>\n",
       "      <td>0.092270</td>\n",
       "      <td>...</td>\n",
       "      <td>-5.222556e-05</td>\n",
       "      <td>0.000031</td>\n",
       "      <td>0.000272</td>\n",
       "      <td>0.000024</td>\n",
       "      <td>0.000591</td>\n",
       "      <td>0.000586</td>\n",
       "      <td>-4.996216e-05</td>\n",
       "      <td>0.024941</td>\n",
       "      <td>0.315667</td>\n",
       "      <td>70.975890</td>\n",
       "    </tr>\n",
       "    <tr>\n",
       "      <td>942778</td>\n",
       "      <td>942778</td>\n",
       "      <td>942778</td>\n",
       "      <td>972006</td>\n",
       "      <td>43356629701262032</td>\n",
       "      <td>216.910760</td>\n",
       "      <td>1.516211</td>\n",
       "      <td>9858</td>\n",
       "      <td>500</td>\n",
       "      <td>43356629701237404</td>\n",
       "      <td>0.096852</td>\n",
       "      <td>...</td>\n",
       "      <td>-1.909138e-08</td>\n",
       "      <td>0.000063</td>\n",
       "      <td>0.000221</td>\n",
       "      <td>-0.000092</td>\n",
       "      <td>0.000310</td>\n",
       "      <td>0.000310</td>\n",
       "      <td>-1.909138e-08</td>\n",
       "      <td>0.024844</td>\n",
       "      <td>0.043398</td>\n",
       "      <td>31.412811</td>\n",
       "    </tr>\n",
       "    <tr>\n",
       "      <td>942779</td>\n",
       "      <td>942779</td>\n",
       "      <td>942779</td>\n",
       "      <td>972007</td>\n",
       "      <td>43356629701262239</td>\n",
       "      <td>217.041444</td>\n",
       "      <td>1.521909</td>\n",
       "      <td>9858</td>\n",
       "      <td>500</td>\n",
       "      <td>43356629701237626</td>\n",
       "      <td>0.092717</td>\n",
       "      <td>...</td>\n",
       "      <td>7.087939e-06</td>\n",
       "      <td>0.000053</td>\n",
       "      <td>0.000141</td>\n",
       "      <td>0.000063</td>\n",
       "      <td>0.000350</td>\n",
       "      <td>0.000268</td>\n",
       "      <td>1.151602e-05</td>\n",
       "      <td>0.010326</td>\n",
       "      <td>0.299280</td>\n",
       "      <td>65.032956</td>\n",
       "    </tr>\n",
       "    <tr>\n",
       "      <td>942780</td>\n",
       "      <td>942780</td>\n",
       "      <td>942780</td>\n",
       "      <td>972008</td>\n",
       "      <td>43356629701262624</td>\n",
       "      <td>216.918218</td>\n",
       "      <td>1.528955</td>\n",
       "      <td>9858</td>\n",
       "      <td>500</td>\n",
       "      <td>43356629701237990</td>\n",
       "      <td>0.096819</td>\n",
       "      <td>...</td>\n",
       "      <td>2.664216e-02</td>\n",
       "      <td>0.666565</td>\n",
       "      <td>4.515715</td>\n",
       "      <td>0.201480</td>\n",
       "      <td>0.483320</td>\n",
       "      <td>3.206428</td>\n",
       "      <td>1.424277e-01</td>\n",
       "      <td>1.707168</td>\n",
       "      <td>0.708811</td>\n",
       "      <td>-86.828676</td>\n",
       "    </tr>\n",
       "  </tbody>\n",
       "</table>\n",
       "<p>942781 rows × 180 columns</p>\n",
       "</div>"
      ],
      "text/plain": [
       "        Unnamed: 0  Unnamed: 0.1  Unnamed: 0.1.1          object_id  \\\n",
       "0                0             0               0  43356767140190800   \n",
       "1                1             1               1  43356767140215426   \n",
       "2                2             2               2  43356767140215465   \n",
       "3                3             3               3  43356767140215565   \n",
       "4                4             4               4  43356767140215633   \n",
       "...            ...           ...             ...                ...   \n",
       "942776      942776        942776          972004  43356629701261250   \n",
       "942777      942777        942777          972005  43356629701261405   \n",
       "942778      942778        942778          972006  43356629701262032   \n",
       "942779      942779        942779          972007  43356629701262239   \n",
       "942780      942780        942780          972008  43356629701262624   \n",
       "\n",
       "              ra_x     dec_x  tract_x  patch_x        parent_id_x       a_g  \\\n",
       "0       216.802789  1.510658     9858      600                  0  0.100219   \n",
       "1       216.784996  1.495341     9858      600  43356767140189984  0.099454   \n",
       "2       216.762722  1.495824     9858      600  43356767140190031  0.098125   \n",
       "3       216.882569  1.497911     9858      600  43356767140190135  0.098223   \n",
       "4       216.909050  1.496337     9858      600  43356767140190184  0.096049   \n",
       "...            ...       ...      ...      ...                ...       ...   \n",
       "942776  216.912147  1.502066     9858      500  43356629701236526  0.096200   \n",
       "942777  217.048003  1.503974     9858      500  43356629701236636  0.092270   \n",
       "942778  216.910760  1.516211     9858      500  43356629701237404  0.096852   \n",
       "942779  217.041444  1.521909     9858      500  43356629701237626  0.092717   \n",
       "942780  216.918218  1.528955     9858      500  43356629701237990  0.096819   \n",
       "\n",
       "        ...  r_cmodel_exp_ellipse_12  r_cmodel_dev_ellipse_11  \\\n",
       "0       ...             1.094012e-05                 0.000053   \n",
       "1       ...             4.092161e-01                 4.074245   \n",
       "2       ...             8.705182e-02                 0.513753   \n",
       "3       ...             2.541877e-01                16.960844   \n",
       "4       ...            -5.232369e-01                 8.405349   \n",
       "...     ...                      ...                      ...   \n",
       "942776  ...             2.575353e-05                 0.000016   \n",
       "942777  ...            -5.222556e-05                 0.000031   \n",
       "942778  ...            -1.909138e-08                 0.000063   \n",
       "942779  ...             7.087939e-06                 0.000053   \n",
       "942780  ...             2.664216e-02                 0.666565   \n",
       "\n",
       "        r_cmodel_dev_ellipse_22  r_cmodel_dev_ellipse_12  r_cmodel_ellipse_11  \\\n",
       "0                      0.000030                 0.000015             0.000033   \n",
       "1                      2.506356                 2.786977             2.916964   \n",
       "2                      0.762794                 0.378081             0.495782   \n",
       "3                     15.764521                 4.063465             1.023160   \n",
       "4                      7.994683                -5.879317             3.812341   \n",
       "...                         ...                      ...                  ...   \n",
       "942776                 0.000044                -0.000006             0.000058   \n",
       "942777                 0.000272                 0.000024             0.000591   \n",
       "942778                 0.000221                -0.000092             0.000310   \n",
       "942779                 0.000141                 0.000063             0.000350   \n",
       "942780                 4.515715                 0.201480             0.483320   \n",
       "\n",
       "        r_cmodel_ellipse_22  r_cmodel_ellipse_12  i_cmodel_ellipse_radius  \\\n",
       "0                  0.000037         1.168442e-05                 0.009128   \n",
       "1                  1.798599         1.991171e+00                 1.822465   \n",
       "2                  0.735635         3.642257e-01                 1.032774   \n",
       "3                  1.008886         2.541877e-01                 1.893183   \n",
       "4                  3.629884        -2.644742e+00                 2.502954   \n",
       "...                     ...                  ...                      ...   \n",
       "942776             0.000083        -6.581262e-07                 0.018185   \n",
       "942777             0.000586        -4.996216e-05                 0.024941   \n",
       "942778             0.000310        -1.909138e-08                 0.024844   \n",
       "942779             0.000268         1.151602e-05                 0.010326   \n",
       "942780             3.206428         1.424277e-01                 1.707168   \n",
       "\n",
       "        i_cmodel_ellipse_ellipticity  i_cmodel_ellipse_theta  \n",
       "0                           0.845221                6.961689  \n",
       "1                           0.865521              -36.213899  \n",
       "2                           0.638879              -53.610602  \n",
       "3                           0.197258              -46.834818  \n",
       "4                           0.703243               44.031684  \n",
       "...                              ...                     ...  \n",
       "942776                      0.025050              -15.937125  \n",
       "942777                      0.315667               70.975890  \n",
       "942778                      0.043398               31.412811  \n",
       "942779                      0.299280               65.032956  \n",
       "942780                      0.708811              -86.828676  \n",
       "\n",
       "[942781 rows x 180 columns]"
      ]
     },
     "execution_count": 8,
     "metadata": {},
     "output_type": "execute_result"
    }
   ],
   "source": [
    "cat"
   ]
  },
  {
   "cell_type": "code",
   "execution_count": 9,
   "metadata": {},
   "outputs": [
    {
     "data": {
      "text/plain": [
       "942781"
      ]
     },
     "execution_count": 9,
     "metadata": {},
     "output_type": "execute_result"
    }
   ],
   "source": [
    "len(cat)"
   ]
  },
  {
   "cell_type": "code",
   "execution_count": 10,
   "metadata": {},
   "outputs": [
    {
     "name": "stdout",
     "output_type": "stream",
     "text": [
      "ra_x\n",
      "dec_x\n",
      "tract_x\n",
      "patch_x\n",
      "parent_id_x\n"
     ]
    }
   ],
   "source": [
    "for c in cat.columns:\n",
    "    if c.endswith('_x'):\n",
    "        print(c)"
   ]
  },
  {
   "cell_type": "code",
   "execution_count": 11,
   "metadata": {},
   "outputs": [],
   "source": [
    "ra_max = 150.8\n",
    "ra_min = 149.4\n",
    "dec_max = 2.9\n",
    "dec_min = 1.6\n",
    "cat_cosmos = cat[(cat['ra_x']<ra_max) & (cat['ra_x']>ra_min)\n",
    "               & (cat['dec_x']<dec_max) & (cat['dec_x']>dec_min)]"
   ]
  },
  {
   "cell_type": "code",
   "execution_count": 12,
   "metadata": {},
   "outputs": [
    {
     "data": {
      "text/plain": [
       "3452"
      ]
     },
     "execution_count": 12,
     "metadata": {},
     "output_type": "execute_result"
    }
   ],
   "source": [
    "len(cat_cosmos)"
   ]
  },
  {
   "cell_type": "code",
   "execution_count": 13,
   "metadata": {},
   "outputs": [],
   "source": [
    "tag = 'gri'\n",
    "imarr_fn = '../data/images_h5/images_{}.h5'.format(tag)\n",
    "results_fn = '../results/results_{}.h5'.format(tag)"
   ]
  },
  {
   "cell_type": "code",
   "execution_count": 14,
   "metadata": {},
   "outputs": [],
   "source": [
    "imarr = h5py.File(imarr_fn)\n",
    "res = h5py.File(results_fn)"
   ]
  },
  {
   "cell_type": "code",
   "execution_count": 15,
   "metadata": {},
   "outputs": [
    {
     "data": {
      "text/plain": [
       "<KeysViewHDF5 ['anomaly_scores', 'disc_scores', 'gen_scores', 'idxs', 'object_ids', 'reconstructed']>"
      ]
     },
     "execution_count": 15,
     "metadata": {},
     "output_type": "execute_result"
    }
   ],
   "source": [
    "scores = res['anomaly_scores']\n",
    "idxs = res['idxs']\n",
    "object_ids = res['object_ids']\n",
    "res.keys()"
   ]
  },
  {
   "cell_type": "code",
   "execution_count": 13,
   "metadata": {},
   "outputs": [],
   "source": [
    "mean = np.mean(scores)\n",
    "std = np.std(scores)\n",
    "thresh_anom = mean+3*std"
   ]
  },
  {
   "cell_type": "code",
   "execution_count": 17,
   "metadata": {},
   "outputs": [],
   "source": [
    "idxs_anom = [idxs[i] for i in range(len(scores)) if scores[i]>thresh_anom]\n",
    "scores_anom = [scores[i] for i in range(len(scores)) if scores[i]>thresh_anom]"
   ]
  },
  {
   "cell_type": "code",
   "execution_count": 18,
   "metadata": {},
   "outputs": [],
   "source": [
    "object_ids_anom = [object_ids[i] for i in range(len(scores)) if scores[i]>thresh_anom]"
   ]
  },
  {
   "cell_type": "code",
   "execution_count": 19,
   "metadata": {},
   "outputs": [
    {
     "data": {
      "text/plain": [
       "9648"
      ]
     },
     "execution_count": 19,
     "metadata": {},
     "output_type": "execute_result"
    }
   ],
   "source": [
    "object_ids_anom = [int(ob) for ob in object_ids_anom]\n",
    "idxs_anom = [int(idd) for idd in idxs_anom]\n",
    "\n",
    "\n",
    "len(object_ids_anom)"
   ]
  },
  {
   "cell_type": "code",
   "execution_count": 19,
   "metadata": {},
   "outputs": [],
   "source": [
    "idxs_cosmos_anom = [idd for idd in idxs_anom if idd in cat_cosmos.index]\n",
    "cat_cosmos_anom = cat_cosmos.loc[[cc for cc in cat_cosmos.index if cc in idxs_cosmos_anom]]"
   ]
  },
  {
   "cell_type": "code",
   "execution_count": 21,
   "metadata": {},
   "outputs": [],
   "source": [
    "def luptonize(x):\n",
    "    rgb_q = 15\n",
    "    rgb_stretch = 0.5\n",
    "    rgb_min = 0\n",
    "    if x.ndim==3:\n",
    "        x = make_lupton_rgb(x[:,:,2], x[:,:,1], x[:,:,0],\n",
    "                      Q=rgb_q, stretch=rgb_stretch, minimum=rgb_min)\n",
    "    elif x.ndim==4:\n",
    "        x = np.array([make_lupton_rgb(xi[:,:,2], xi[:,:,1], xi[:,:,0],\n",
    "                      Q=rgb_q, stretch=rgb_stretch, minimum=rgb_min)\n",
    "                      for xi in x])\n",
    "    else:\n",
    "        raise ValueError(f\"Wrong number of dimensions! Gave {x.ndim}, need 3 or 4\")\n",
    "    return x"
   ]
  },
  {
   "cell_type": "code",
   "execution_count": 3,
   "metadata": {},
   "outputs": [
    {
     "name": "stdout",
     "output_type": "stream",
     "text": [
      "ok\n"
     ]
    },
    {
     "ename": "NameError",
     "evalue": "name 'imarr' is not defined",
     "output_type": "error",
     "traceback": [
      "\u001b[0;31m---------------------------------------------------------------------------\u001b[0m",
      "\u001b[0;31mNameError\u001b[0m                                 Traceback (most recent call last)",
      "\u001b[0;32m<ipython-input-3-bda8eea7831a>\u001b[0m in \u001b[0;36m<module>\u001b[0;34m\u001b[0m\n\u001b[1;32m      1\u001b[0m \u001b[0mprint\u001b[0m\u001b[0;34m(\u001b[0m\u001b[0;34m\"ok\"\u001b[0m\u001b[0;34m)\u001b[0m\u001b[0;34m\u001b[0m\u001b[0;34m\u001b[0m\u001b[0m\n\u001b[0;32m----> 2\u001b[0;31m \u001b[0mprint\u001b[0m\u001b[0;34m(\u001b[0m\u001b[0mimarr\u001b[0m\u001b[0;34m[\u001b[0m\u001b[0;34m'idxs'\u001b[0m\u001b[0;34m]\u001b[0m\u001b[0;34m)\u001b[0m\u001b[0;34m\u001b[0m\u001b[0;34m\u001b[0m\u001b[0m\n\u001b[0m",
      "\u001b[0;31mNameError\u001b[0m: name 'imarr' is not defined"
     ]
    }
   ],
   "source": [
    "print(\"ok\")\n",
    "print(imarr['idxs'])"
   ]
  },
  {
   "cell_type": "code",
   "execution_count": null,
   "metadata": {},
   "outputs": [],
   "source": [
    "#im_ix = np.argsort(imarr['idxs'])"
   ]
  },
  {
   "cell_type": "code",
   "execution_count": 7,
   "metadata": {},
   "outputs": [
    {
     "ename": "NameError",
     "evalue": "name 'imarr' is not defined",
     "output_type": "error",
     "traceback": [
      "\u001b[0;31m---------------------------------------------------------------------------\u001b[0m",
      "\u001b[0;31mNameError\u001b[0m                                 Traceback (most recent call last)",
      "\u001b[0;32m<ipython-input-7-87095a34323b>\u001b[0m in \u001b[0;36m<module>\u001b[0;34m\u001b[0m\n\u001b[0;32m----> 1\u001b[0;31m \u001b[0mimarr\u001b[0m\u001b[0;34m[\u001b[0m\u001b[0;34m'images'\u001b[0m\u001b[0;34m]\u001b[0m\u001b[0;34m\u001b[0m\u001b[0;34m\u001b[0m\u001b[0m\n\u001b[0m",
      "\u001b[0;31mNameError\u001b[0m: name 'imarr' is not defined"
     ]
    }
   ],
   "source": [
    "imarr['images']"
   ]
  },
  {
   "cell_type": "code",
   "execution_count": null,
   "metadata": {},
   "outputs": [],
   "source": [
    "im_ix_fix = im_ix[1:]\n",
    "im_idxs = imarr['idxs'][:]"
   ]
  },
  {
   "cell_type": "code",
   "execution_count": null,
   "metadata": {},
   "outputs": [],
   "source": [
    "im_ix_fix[8]\n",
    "im_idxs[im_ix_fix[8]]"
   ]
  },
  {
   "cell_type": "code",
   "execution_count": null,
   "metadata": {},
   "outputs": [],
   "source": [
    "nrows = 3\n",
    "ncols = 9\n",
    "fig, axarr = plt.subplots(nrows, ncols, figsize=(16, 6))\n",
    "plt.subplots_adjust(hspace=0, wspace=0.1)\n",
    "cc = 0\n",
    "for i in range(nrows):\n",
    "    for j in range(ncols):\n",
    "        idx = idxs_cosmos_anom[cc]\n",
    "        idx_loc = im_ix_fix[idx]\n",
    "        #print(idx, idx_loc)\n",
    "        idx_real = imarr['idxs'][idx_loc]\n",
    "        #idx_real = imarr['idxs'].index(idx)\n",
    "        #print(idx_real)\n",
    "        #print(imarr['idxs'][idx_real])\n",
    "        axarr[i][j].imshow(luptonize(imarr['images'][idx_loc]))\n",
    "        axarr[i][j].set_xticks([])\n",
    "        axarr[i][j].set_yticks([])\n",
    "        cc += 1"
   ]
  },
  {
   "cell_type": "code",
   "execution_count": null,
   "metadata": {},
   "outputs": [],
   "source": [
    "thresh_anom2 = mean+2*std\n",
    "print(thresh_anom2)"
   ]
  },
  {
   "cell_type": "code",
   "execution_count": null,
   "metadata": {},
   "outputs": [],
   "source": [
    "idxs_anom2 = [int(idxs[i]) for i in range(len(scores)) if scores[i]>thresh_anom2]\n",
    "scores_anom2 = [scores[i] for i in range(len(scores)) if scores[i]>thresh_anom2]"
   ]
  },
  {
   "cell_type": "code",
   "execution_count": null,
   "metadata": {},
   "outputs": [],
   "source": [
    "idxs_cosmos_anom2 = [idd for idd in idxs_anom2 if idd in cat_cosmos.index]\n",
    "cat_cosmos_anom2 = cat_cosmos.loc[[cc for cc in cat_cosmos.index if cc in idxs_cosmos_anom2]]\n",
    "len(cat_cosmos_anom2)"
   ]
  },
  {
   "cell_type": "code",
   "execution_count": null,
   "metadata": {},
   "outputs": [],
   "source": [
    "nrows = 10\n",
    "ncols = 10\n",
    "fig, axarr = plt.subplots(nrows, ncols, figsize=(18, 18))\n",
    "plt.subplots_adjust(hspace=0.25, wspace=0.05)\n",
    "cc = 0\n",
    "for i in range(nrows):\n",
    "    for j in range(ncols):\n",
    "        idx = idxs_cosmos_anom2[cc]\n",
    "        idx_loc = im_ix_fix[idx]\n",
    "        idx_real = imarr['idxs'][idx_loc]\n",
    "        axarr[i][j].imshow(luptonize(imarr['images'][idx_loc]))\n",
    "        axarr[i][j].set_title(cc)\n",
    "        axarr[i][j].set_xticks([])\n",
    "        axarr[i][j].set_yticks([])\n",
    "        cc += 1"
   ]
  },
  {
   "cell_type": "code",
   "execution_count": null,
   "metadata": {},
   "outputs": [],
   "source": [
    "plt.figure()\n",
    "ax = plt.gca()\n",
    "cc = 0\n",
    "idx = idxs_cosmos_anom2[cc]\n",
    "idx_loc = im_ix_fix[idx]\n",
    "idx_real = imarr['idxs'][idx_loc]\n",
    "ax.imshow(luptonize(imarr['images'][idx_loc]))\n",
    "ax.set_title(cc)\n",
    "ax.set_xticks([])\n",
    "ax.set_yticks([])"
   ]
  },
  {
   "cell_type": "code",
   "execution_count": null,
   "metadata": {},
   "outputs": [],
   "source": []
  },
  {
   "cell_type": "code",
   "execution_count": 22,
   "metadata": {},
   "outputs": [
    {
     "data": {
      "text/plain": [
       "[]"
      ]
     },
     "execution_count": 22,
     "metadata": {},
     "output_type": "execute_result"
    },
    {
     "data": {
      "image/png": "[encoded data removed]",
      "text/plain": [
       "<Figure size 288x288 with 1 Axes>"
      ]
     },
     "metadata": {},
     "output_type": "display_data"
    }
   ],
   "source": [
    "idxx = 0\n",
    "plt.figure(figsize=(4,4))\n",
    "ax = plt.gca()\n",
    "\n",
    "#idx_loc = im_ix_fix[idxx]\n",
    "#idx_real = imarr['idxs'][idx_loc]\n",
    "idx_loc = idxx\n",
    "\n",
    "ax.imshow(luptonize(imarr['images'][idx_loc]))\n",
    "#ax.set_title(idxx)\n",
    "ax.set_xticks([])\n",
    "ax.set_yticks([])"
   ]
  },
  {
   "cell_type": "code",
   "execution_count": 19,
   "metadata": {},
   "outputs": [],
   "source": [
    "from unagi import config\n",
    "from unagi import hsc\n",
    "from unagi.task import hsc_tricolor"
   ]
  },
  {
   "cell_type": "code",
   "execution_count": 25,
   "metadata": {},
   "outputs": [
    {
     "name": "stdout",
     "output_type": "stream",
     "text": [
      "216.8281045448801 1.5067854121775812\n"
     ]
    }
   ],
   "source": [
    "objx = cat.iloc[8]\n",
    "rax = objx['ra_x']\n",
    "decx = objx['dec_x']\n",
    "print(rax, decx)"
   ]
  },
  {
   "cell_type": "code",
   "execution_count": 20,
   "metadata": {},
   "outputs": [
    {
     "name": "stdout",
     "output_type": "stream",
     "text": [
      "# Get table list from /home/ksf293/.local/lib/python3.6/site-packages/unagi-0.1.0-py3.6.egg/unagi/data/pdr2_wide/pdr2_wide_tables.fits\n"
     ]
    }
   ],
   "source": [
    "pdr2_wide = hsc.Hsc(dr='pdr2', rerun='pdr2_wide', config_file='../cred.dat')"
   ]
  },
  {
   "cell_type": "code",
   "execution_count": 28,
   "metadata": {},
   "outputs": [
    {
     "ename": "error",
     "evalue": "db type is dbm.gnu, but the module is not available",
     "output_type": "error",
     "traceback": [
      "\u001b[0;31m---------------------------------------------------------------------------\u001b[0m",
      "\u001b[0;31merror\u001b[0m                                     Traceback (most recent call last)",
      "\u001b[0;32m<ipython-input-28-2b1dafe0685a>\u001b[0m in \u001b[0;36m<module>\u001b[0;34m\u001b[0m\n\u001b[1;32m      8\u001b[0m cutout_rgb, cutout_wcs = hsc_tricolor(\n\u001b[1;32m      9\u001b[0m     \u001b[0mcoord\u001b[0m\u001b[0;34m,\u001b[0m \u001b[0mcutout_size\u001b[0m\u001b[0;34m=\u001b[0m\u001b[0ms_ang\u001b[0m\u001b[0;34m,\u001b[0m \u001b[0mfilters\u001b[0m\u001b[0;34m=\u001b[0m\u001b[0mfilters\u001b[0m\u001b[0;34m,\u001b[0m \u001b[0mverbose\u001b[0m\u001b[0;34m=\u001b[0m\u001b[0;32mFalse\u001b[0m\u001b[0;34m,\u001b[0m\u001b[0;34m\u001b[0m\u001b[0;34m\u001b[0m\u001b[0m\n\u001b[0;32m---> 10\u001b[0;31m     save_rgb=False, save_img=False, use_saved=False, archive=pdr2_wide)\n\u001b[0m\u001b[1;32m     11\u001b[0m \u001b[0mprint\u001b[0m\u001b[0;34m(\u001b[0m\u001b[0mcutout_rgb\u001b[0m\u001b[0;34m.\u001b[0m\u001b[0mdata\u001b[0m\u001b[0;34m.\u001b[0m\u001b[0mshape\u001b[0m\u001b[0;34m)\u001b[0m\u001b[0;34m\u001b[0m\u001b[0;34m\u001b[0m\u001b[0m\n",
      "\u001b[0;32m~/.local/lib/python3.6/site-packages/unagi-0.1.0-py3.6.egg/unagi/task.py\u001b[0m in \u001b[0;36mhsc_tricolor\u001b[0;34m(coord, cutout_size, coord_2, filters, dr, rerun, redshift, cosmo, prefix, use_saved, save_img, verbose, rgb_order, hdu, archive, output_dir, save_rgb, rgb_q, rgb_stretch, rgb_min)\u001b[0m\n\u001b[1;32m    117\u001b[0m                 \u001b[0mprint\u001b[0m\u001b[0;34m(\u001b[0m\u001b[0;34m\"# Retrieving cutout image in filter: {}\"\u001b[0m\u001b[0;34m.\u001b[0m\u001b[0mformat\u001b[0m\u001b[0;34m(\u001b[0m\u001b[0mfilt\u001b[0m\u001b[0;34m)\u001b[0m\u001b[0;34m)\u001b[0m\u001b[0;34m\u001b[0m\u001b[0;34m\u001b[0m\u001b[0m\n\u001b[1;32m    118\u001b[0m             cutout_hdu = archive.get_cutout_image(\n\u001b[0;32m--> 119\u001b[0;31m                 coord, coord_2=coord_2, w_half=ang_size_w, h_half=ang_size_h, filt=filt)\n\u001b[0m\u001b[1;32m    120\u001b[0m             \u001b[0;32mif\u001b[0m \u001b[0msave_img\u001b[0m\u001b[0;34m:\u001b[0m\u001b[0;34m\u001b[0m\u001b[0;34m\u001b[0m\u001b[0m\n\u001b[1;32m    121\u001b[0m                 \u001b[0m_\u001b[0m \u001b[0;34m=\u001b[0m \u001b[0mcutout_hdu\u001b[0m\u001b[0;34m.\u001b[0m\u001b[0mwriteto\u001b[0m\u001b[0;34m(\u001b[0m\u001b[0mfits_list\u001b[0m\u001b[0;34m[\u001b[0m\u001b[0mii\u001b[0m\u001b[0;34m]\u001b[0m\u001b[0;34m,\u001b[0m \u001b[0moverwrite\u001b[0m\u001b[0;34m=\u001b[0m\u001b[0;32mTrue\u001b[0m\u001b[0;34m)\u001b[0m\u001b[0;34m\u001b[0m\u001b[0;34m\u001b[0m\u001b[0m\n",
      "\u001b[0;32m~/.local/lib/python3.6/site-packages/unagi-0.1.0-py3.6.egg/unagi/hsc.py\u001b[0m in \u001b[0;36mget_cutout_image\u001b[0;34m(self, coord, coord_2, w_half, h_half, filt, img_type, image, variance, mask, verbose)\u001b[0m\n\u001b[1;32m    246\u001b[0m             \u001b[0;32mif\u001b[0m \u001b[0mverbose\u001b[0m\u001b[0;34m:\u001b[0m\u001b[0;34m\u001b[0m\u001b[0;34m\u001b[0m\u001b[0m\n\u001b[1;32m    247\u001b[0m                 \u001b[0mprint\u001b[0m\u001b[0;34m(\u001b[0m\u001b[0;34m\"# Downloading FITS image from {}\"\u001b[0m\u001b[0;34m.\u001b[0m\u001b[0mformat\u001b[0m\u001b[0;34m(\u001b[0m\u001b[0mcutout_url\u001b[0m\u001b[0;34m)\u001b[0m\u001b[0;34m)\u001b[0m\u001b[0;34m\u001b[0m\u001b[0;34m\u001b[0m\u001b[0m\n\u001b[0;32m--> 248\u001b[0;31m             \u001b[0mcutout\u001b[0m \u001b[0;34m=\u001b[0m \u001b[0mfits\u001b[0m\u001b[0;34m.\u001b[0m\u001b[0mopen\u001b[0m\u001b[0;34m(\u001b[0m\u001b[0mcutout_url\u001b[0m\u001b[0;34m)\u001b[0m\u001b[0;34m\u001b[0m\u001b[0;34m\u001b[0m\u001b[0m\n\u001b[0m\u001b[1;32m    249\u001b[0m         \u001b[0;32mexcept\u001b[0m \u001b[0murllib\u001b[0m\u001b[0;34m.\u001b[0m\u001b[0merror\u001b[0m\u001b[0;34m.\u001b[0m\u001b[0mHTTPError\u001b[0m \u001b[0;32mas\u001b[0m \u001b[0me\u001b[0m\u001b[0;34m:\u001b[0m\u001b[0;34m\u001b[0m\u001b[0;34m\u001b[0m\u001b[0m\n\u001b[1;32m    250\u001b[0m             \u001b[0mprint\u001b[0m\u001b[0;34m(\u001b[0m\u001b[0;34m\"# Error message: {}\"\u001b[0m\u001b[0;34m.\u001b[0m\u001b[0mformat\u001b[0m\u001b[0;34m(\u001b[0m\u001b[0me\u001b[0m\u001b[0;34m)\u001b[0m\u001b[0;34m)\u001b[0m\u001b[0;34m\u001b[0m\u001b[0;34m\u001b[0m\u001b[0m\n",
      "\u001b[0;32m~/miniconda3/lib/python3.7/site-packages/astropy/io/fits/hdu/hdulist.py\u001b[0m in \u001b[0;36mfitsopen\u001b[0;34m(name, mode, memmap, save_backup, cache, lazy_load_hdus, **kwargs)\u001b[0m\n\u001b[1;32m    149\u001b[0m \u001b[0;34m\u001b[0m\u001b[0m\n\u001b[1;32m    150\u001b[0m     return HDUList.fromfile(name, mode, memmap, save_backup, cache,\n\u001b[0;32m--> 151\u001b[0;31m                             lazy_load_hdus, **kwargs)\n\u001b[0m\u001b[1;32m    152\u001b[0m \u001b[0;34m\u001b[0m\u001b[0m\n\u001b[1;32m    153\u001b[0m \u001b[0;34m\u001b[0m\u001b[0m\n",
      "\u001b[0;32m~/miniconda3/lib/python3.7/site-packages/astropy/io/fits/hdu/hdulist.py\u001b[0m in \u001b[0;36mfromfile\u001b[0;34m(cls, fileobj, mode, memmap, save_backup, cache, lazy_load_hdus, **kwargs)\u001b[0m\n\u001b[1;32m    388\u001b[0m         return cls._readfrom(fileobj=fileobj, mode=mode, memmap=memmap,\n\u001b[1;32m    389\u001b[0m                              \u001b[0msave_backup\u001b[0m\u001b[0;34m=\u001b[0m\u001b[0msave_backup\u001b[0m\u001b[0;34m,\u001b[0m \u001b[0mcache\u001b[0m\u001b[0;34m=\u001b[0m\u001b[0mcache\u001b[0m\u001b[0;34m,\u001b[0m\u001b[0;34m\u001b[0m\u001b[0;34m\u001b[0m\u001b[0m\n\u001b[0;32m--> 390\u001b[0;31m                              lazy_load_hdus=lazy_load_hdus, **kwargs)\n\u001b[0m\u001b[1;32m    391\u001b[0m \u001b[0;34m\u001b[0m\u001b[0m\n\u001b[1;32m    392\u001b[0m     \u001b[0;34m@\u001b[0m\u001b[0mclassmethod\u001b[0m\u001b[0;34m\u001b[0m\u001b[0;34m\u001b[0m\u001b[0m\n",
      "\u001b[0;32m~/miniconda3/lib/python3.7/site-packages/astropy/io/fits/hdu/hdulist.py\u001b[0m in \u001b[0;36m_readfrom\u001b[0;34m(cls, fileobj, data, mode, memmap, save_backup, cache, lazy_load_hdus, **kwargs)\u001b[0m\n\u001b[1;32m   1037\u001b[0m             \u001b[0;32mif\u001b[0m \u001b[0;32mnot\u001b[0m \u001b[0misinstance\u001b[0m\u001b[0;34m(\u001b[0m\u001b[0mfileobj\u001b[0m\u001b[0;34m,\u001b[0m \u001b[0m_File\u001b[0m\u001b[0;34m)\u001b[0m\u001b[0;34m:\u001b[0m\u001b[0;34m\u001b[0m\u001b[0;34m\u001b[0m\u001b[0m\n\u001b[1;32m   1038\u001b[0m                 \u001b[0;31m# instantiate a FITS file object (ffo)\u001b[0m\u001b[0;34m\u001b[0m\u001b[0;34m\u001b[0m\u001b[0;34m\u001b[0m\u001b[0m\n\u001b[0;32m-> 1039\u001b[0;31m                 \u001b[0mfileobj\u001b[0m \u001b[0;34m=\u001b[0m \u001b[0m_File\u001b[0m\u001b[0;34m(\u001b[0m\u001b[0mfileobj\u001b[0m\u001b[0;34m,\u001b[0m \u001b[0mmode\u001b[0m\u001b[0;34m=\u001b[0m\u001b[0mmode\u001b[0m\u001b[0;34m,\u001b[0m \u001b[0mmemmap\u001b[0m\u001b[0;34m=\u001b[0m\u001b[0mmemmap\u001b[0m\u001b[0;34m,\u001b[0m \u001b[0mcache\u001b[0m\u001b[0;34m=\u001b[0m\u001b[0mcache\u001b[0m\u001b[0;34m)\u001b[0m\u001b[0;34m\u001b[0m\u001b[0;34m\u001b[0m\u001b[0m\n\u001b[0m\u001b[1;32m   1040\u001b[0m             \u001b[0;31m# The Astropy mode is determined by the _File initializer if the\u001b[0m\u001b[0;34m\u001b[0m\u001b[0;34m\u001b[0m\u001b[0;34m\u001b[0m\u001b[0m\n\u001b[1;32m   1041\u001b[0m             \u001b[0;31m# supplied mode was None\u001b[0m\u001b[0;34m\u001b[0m\u001b[0;34m\u001b[0m\u001b[0;34m\u001b[0m\u001b[0m\n",
      "\u001b[0;32m~/miniconda3/lib/python3.7/site-packages/astropy/utils/decorators.py\u001b[0m in \u001b[0;36mwrapper\u001b[0;34m(*args, **kwargs)\u001b[0m\n\u001b[1;32m    519\u001b[0m                             \u001b[0mkwargs\u001b[0m\u001b[0;34m[\u001b[0m\u001b[0mnew_name\u001b[0m\u001b[0;34m[\u001b[0m\u001b[0mi\u001b[0m\u001b[0;34m]\u001b[0m\u001b[0;34m]\u001b[0m \u001b[0;34m=\u001b[0m \u001b[0mvalue\u001b[0m\u001b[0;34m\u001b[0m\u001b[0;34m\u001b[0m\u001b[0m\n\u001b[1;32m    520\u001b[0m \u001b[0;34m\u001b[0m\u001b[0m\n\u001b[0;32m--> 521\u001b[0;31m             \u001b[0;32mreturn\u001b[0m \u001b[0mfunction\u001b[0m\u001b[0;34m(\u001b[0m\u001b[0;34m*\u001b[0m\u001b[0margs\u001b[0m\u001b[0;34m,\u001b[0m \u001b[0;34m**\u001b[0m\u001b[0mkwargs\u001b[0m\u001b[0;34m)\u001b[0m\u001b[0;34m\u001b[0m\u001b[0;34m\u001b[0m\u001b[0m\n\u001b[0m\u001b[1;32m    522\u001b[0m \u001b[0;34m\u001b[0m\u001b[0m\n\u001b[1;32m    523\u001b[0m         \u001b[0;32mreturn\u001b[0m \u001b[0mwrapper\u001b[0m\u001b[0;34m\u001b[0m\u001b[0;34m\u001b[0m\u001b[0m\n",
      "\u001b[0;32m~/miniconda3/lib/python3.7/site-packages/astropy/io/fits/file.py\u001b[0m in \u001b[0;36m__init__\u001b[0;34m(self, fileobj, mode, memmap, overwrite, cache)\u001b[0m\n\u001b[1;32m    145\u001b[0m         if (isinstance(fileobj, str) and\n\u001b[1;32m    146\u001b[0m             mode not in ('ostream', 'append', 'update') and _is_url(fileobj)):\n\u001b[0;32m--> 147\u001b[0;31m             \u001b[0mself\u001b[0m\u001b[0;34m.\u001b[0m\u001b[0mname\u001b[0m \u001b[0;34m=\u001b[0m \u001b[0mdownload_file\u001b[0m\u001b[0;34m(\u001b[0m\u001b[0mfileobj\u001b[0m\u001b[0;34m,\u001b[0m \u001b[0mcache\u001b[0m\u001b[0;34m=\u001b[0m\u001b[0mcache\u001b[0m\u001b[0;34m)\u001b[0m\u001b[0;34m\u001b[0m\u001b[0;34m\u001b[0m\u001b[0m\n\u001b[0m\u001b[1;32m    148\u001b[0m         \u001b[0;31m# Handle responses from URL requests that have already been opened\u001b[0m\u001b[0;34m\u001b[0m\u001b[0;34m\u001b[0m\u001b[0;34m\u001b[0m\u001b[0m\n\u001b[1;32m    149\u001b[0m         \u001b[0;32melif\u001b[0m \u001b[0misinstance\u001b[0m\u001b[0;34m(\u001b[0m\u001b[0mfileobj\u001b[0m\u001b[0;34m,\u001b[0m \u001b[0mhttp\u001b[0m\u001b[0;34m.\u001b[0m\u001b[0mclient\u001b[0m\u001b[0;34m.\u001b[0m\u001b[0mHTTPResponse\u001b[0m\u001b[0;34m)\u001b[0m\u001b[0;34m:\u001b[0m\u001b[0;34m\u001b[0m\u001b[0;34m\u001b[0m\u001b[0m\n",
      "\u001b[0;32m~/miniconda3/lib/python3.7/site-packages/astropy/utils/data.py\u001b[0m in \u001b[0;36mdownload_file\u001b[0;34m(remote_url, cache, show_progress, timeout)\u001b[0m\n\u001b[1;32m   1010\u001b[0m         \u001b[0;32mif\u001b[0m \u001b[0mcache\u001b[0m\u001b[0;34m:\u001b[0m\u001b[0;34m\u001b[0m\u001b[0;34m\u001b[0m\u001b[0m\n\u001b[1;32m   1011\u001b[0m             \u001b[0;31m# We don't need to acquire the lock here, since we are only reading\u001b[0m\u001b[0;34m\u001b[0m\u001b[0;34m\u001b[0m\u001b[0;34m\u001b[0m\u001b[0m\n\u001b[0;32m-> 1012\u001b[0;31m             \u001b[0;32mwith\u001b[0m \u001b[0mshelve\u001b[0m\u001b[0;34m.\u001b[0m\u001b[0mopen\u001b[0m\u001b[0;34m(\u001b[0m\u001b[0murlmapfn\u001b[0m\u001b[0;34m)\u001b[0m \u001b[0;32mas\u001b[0m \u001b[0murl2hash\u001b[0m\u001b[0;34m:\u001b[0m\u001b[0;34m\u001b[0m\u001b[0;34m\u001b[0m\u001b[0m\n\u001b[0m\u001b[1;32m   1013\u001b[0m                 \u001b[0;32mif\u001b[0m \u001b[0murl_key\u001b[0m \u001b[0;32min\u001b[0m \u001b[0murl2hash\u001b[0m\u001b[0;34m:\u001b[0m\u001b[0;34m\u001b[0m\u001b[0;34m\u001b[0m\u001b[0m\n\u001b[1;32m   1014\u001b[0m                     \u001b[0;32mreturn\u001b[0m \u001b[0murl2hash\u001b[0m\u001b[0;34m[\u001b[0m\u001b[0murl_key\u001b[0m\u001b[0;34m]\u001b[0m\u001b[0;34m\u001b[0m\u001b[0;34m\u001b[0m\u001b[0m\n",
      "\u001b[0;32m~/miniconda3/lib/python3.7/shelve.py\u001b[0m in \u001b[0;36mopen\u001b[0;34m(filename, flag, protocol, writeback)\u001b[0m\n\u001b[1;32m    241\u001b[0m     \"\"\"\n\u001b[1;32m    242\u001b[0m \u001b[0;34m\u001b[0m\u001b[0m\n\u001b[0;32m--> 243\u001b[0;31m     \u001b[0;32mreturn\u001b[0m \u001b[0mDbfilenameShelf\u001b[0m\u001b[0;34m(\u001b[0m\u001b[0mfilename\u001b[0m\u001b[0;34m,\u001b[0m \u001b[0mflag\u001b[0m\u001b[0;34m,\u001b[0m \u001b[0mprotocol\u001b[0m\u001b[0;34m,\u001b[0m \u001b[0mwriteback\u001b[0m\u001b[0;34m)\u001b[0m\u001b[0;34m\u001b[0m\u001b[0;34m\u001b[0m\u001b[0m\n\u001b[0m",
      "\u001b[0;32m~/miniconda3/lib/python3.7/shelve.py\u001b[0m in \u001b[0;36m__init__\u001b[0;34m(self, filename, flag, protocol, writeback)\u001b[0m\n\u001b[1;32m    225\u001b[0m     \u001b[0;32mdef\u001b[0m \u001b[0m__init__\u001b[0m\u001b[0;34m(\u001b[0m\u001b[0mself\u001b[0m\u001b[0;34m,\u001b[0m \u001b[0mfilename\u001b[0m\u001b[0;34m,\u001b[0m \u001b[0mflag\u001b[0m\u001b[0;34m=\u001b[0m\u001b[0;34m'c'\u001b[0m\u001b[0;34m,\u001b[0m \u001b[0mprotocol\u001b[0m\u001b[0;34m=\u001b[0m\u001b[0;32mNone\u001b[0m\u001b[0;34m,\u001b[0m \u001b[0mwriteback\u001b[0m\u001b[0;34m=\u001b[0m\u001b[0;32mFalse\u001b[0m\u001b[0;34m)\u001b[0m\u001b[0;34m:\u001b[0m\u001b[0;34m\u001b[0m\u001b[0;34m\u001b[0m\u001b[0m\n\u001b[1;32m    226\u001b[0m         \u001b[0;32mimport\u001b[0m \u001b[0mdbm\u001b[0m\u001b[0;34m\u001b[0m\u001b[0;34m\u001b[0m\u001b[0m\n\u001b[0;32m--> 227\u001b[0;31m         \u001b[0mShelf\u001b[0m\u001b[0;34m.\u001b[0m\u001b[0m__init__\u001b[0m\u001b[0;34m(\u001b[0m\u001b[0mself\u001b[0m\u001b[0;34m,\u001b[0m \u001b[0mdbm\u001b[0m\u001b[0;34m.\u001b[0m\u001b[0mopen\u001b[0m\u001b[0;34m(\u001b[0m\u001b[0mfilename\u001b[0m\u001b[0;34m,\u001b[0m \u001b[0mflag\u001b[0m\u001b[0;34m)\u001b[0m\u001b[0;34m,\u001b[0m \u001b[0mprotocol\u001b[0m\u001b[0;34m,\u001b[0m \u001b[0mwriteback\u001b[0m\u001b[0;34m)\u001b[0m\u001b[0;34m\u001b[0m\u001b[0;34m\u001b[0m\u001b[0m\n\u001b[0m\u001b[1;32m    228\u001b[0m \u001b[0;34m\u001b[0m\u001b[0m\n\u001b[1;32m    229\u001b[0m \u001b[0;34m\u001b[0m\u001b[0m\n",
      "\u001b[0;32m~/miniconda3/lib/python3.7/dbm/__init__.py\u001b[0m in \u001b[0;36mopen\u001b[0;34m(file, flag, mode)\u001b[0m\n\u001b[1;32m     89\u001b[0m     \u001b[0;32melif\u001b[0m \u001b[0mresult\u001b[0m \u001b[0;32mnot\u001b[0m \u001b[0;32min\u001b[0m \u001b[0m_modules\u001b[0m\u001b[0;34m:\u001b[0m\u001b[0;34m\u001b[0m\u001b[0;34m\u001b[0m\u001b[0m\n\u001b[1;32m     90\u001b[0m         raise error[0](\"db type is {0}, but the module is not \"\n\u001b[0;32m---> 91\u001b[0;31m                        \"available\".format(result))\n\u001b[0m\u001b[1;32m     92\u001b[0m     \u001b[0;32melse\u001b[0m\u001b[0;34m:\u001b[0m\u001b[0;34m\u001b[0m\u001b[0;34m\u001b[0m\u001b[0m\n\u001b[1;32m     93\u001b[0m         \u001b[0mmod\u001b[0m \u001b[0;34m=\u001b[0m \u001b[0m_modules\u001b[0m\u001b[0;34m[\u001b[0m\u001b[0mresult\u001b[0m\u001b[0;34m]\u001b[0m\u001b[0;34m\u001b[0m\u001b[0;34m\u001b[0m\u001b[0m\n",
      "\u001b[0;31merror\u001b[0m: db type is dbm.gnu, but the module is not available"
     ]
    }
   ],
   "source": [
    "filters = ['g','r','i']\n",
    "ang_size_h = 10*u.arcsec\n",
    "ang_size_w = 10*u.arcsec\n",
    "\n",
    "coord = SkyCoord(rax, decx, frame='icrs', unit='deg')\n",
    "\n",
    "s_ang = [ang_size_h, ang_size_w]\n",
    "cutout_rgb, cutout_wcs = hsc_tricolor(\n",
    "    coord, cutout_size=s_ang, filters=filters, verbose=False, \n",
    "    save_rgb=False, save_img=False, use_saved=False, archive=pdr2_wide)\n",
    "print(cutout_rgb.data.shape)"
   ]
  },
  {
   "cell_type": "code",
   "execution_count": 19,
   "metadata": {},
   "outputs": [
    {
     "name": "stdout",
     "output_type": "stream",
     "text": [
      "8.0\n"
     ]
    }
   ],
   "source": [
    "print(imarr['idxs'][0])"
   ]
  },
  {
   "cell_type": "code",
   "execution_count": null,
   "metadata": {},
   "outputs": [],
   "source": [
    "print(imarr['idxs'][0])"
   ]
  }
 ],
 "metadata": {
  "kernelspec": {
   "display_name": "Python 3",
   "language": "python",
   "name": "python3"
  },
  "language_info": {
   "codemirror_mode": {
    "name": "ipython",
    "version": 3
   },
   "file_extension": ".py",
   "mimetype": "text/x-python",
   "name": "python",
   "nbconvert_exporter": "python",
   "pygments_lexer": "ipython3",
   "version": "3.7.3"
  }
 },
 "nbformat": 4,
 "nbformat_minor": 2
}
